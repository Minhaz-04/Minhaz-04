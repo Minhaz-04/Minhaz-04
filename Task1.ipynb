{
  "nbformat": 4,
  "nbformat_minor": 0,
  "metadata": {
    "colab": {
      "provenance": [],
      "authorship_tag": "ABX9TyPkeILN2QbfmRW2CdkF5bww",
      "include_colab_link": true
    },
    "kernelspec": {
      "name": "python3",
      "display_name": "Python 3"
    },
    "language_info": {
      "name": "python"
    }
  },
  "cells": [
    {
      "cell_type": "markdown",
      "metadata": {
        "id": "view-in-github",
        "colab_type": "text"
      },
      "source": [
        "<a href=\"https://colab.research.google.com/github/Minhaz-04/Minhaz-04/blob/main/Task1.ipynb\" target=\"_parent\"><img src=\"https://colab.research.google.com/assets/colab-badge.svg\" alt=\"Open In Colab\"/></a>"
      ]
    },
    {
      "cell_type": "markdown",
      "source": [
        "**CREATING A LIST**"
      ],
      "metadata": {
        "id": "TMDbZdn0BLJi"
      }
    },
    {
      "cell_type": "code",
      "execution_count": 4,
      "metadata": {
        "colab": {
          "base_uri": "https://localhost:8080/"
        },
        "id": "55ud0DoTBHZT",
        "outputId": "e963f6fd-d1e5-4b55-9363-c4b1bf57ad66"
      },
      "outputs": [
        {
          "output_type": "execute_result",
          "data": {
            "text/plain": [
              "[10, 20, 30, 40, 50]"
            ]
          },
          "metadata": {},
          "execution_count": 4
        }
      ],
      "source": [
        "mylist=[10,20,30,40,50]\n",
        "mylist"
      ]
    },
    {
      "cell_type": "markdown",
      "source": [
        "**MODIFYING A LIST**"
      ],
      "metadata": {
        "id": "m2GATXPvCmt5"
      }
    },
    {
      "cell_type": "code",
      "source": [
        "mylist[3] = 35\n",
        "mylist"
      ],
      "metadata": {
        "colab": {
          "base_uri": "https://localhost:8080/"
        },
        "id": "0BSV7MIACsxC",
        "outputId": "642c0916-37c4-42d6-b1e3-c21624a7641e"
      },
      "execution_count": 7,
      "outputs": [
        {
          "output_type": "execute_result",
          "data": {
            "text/plain": [
              "[10, 20, 30, 35, 50]"
            ]
          },
          "metadata": {},
          "execution_count": 7
        }
      ]
    },
    {
      "cell_type": "markdown",
      "source": [
        "**ADDITION IN LIST**"
      ],
      "metadata": {
        "id": "jRxTenHhDgNb"
      }
    },
    {
      "cell_type": "code",
      "source": [
        "mylist.append(55)\n",
        "mylist"
      ],
      "metadata": {
        "colab": {
          "base_uri": "https://localhost:8080/"
        },
        "id": "hlrZlIztCIY0",
        "outputId": "52e70e0c-0ba1-44e4-859d-a9331e7b7b5d"
      },
      "execution_count": 8,
      "outputs": [
        {
          "output_type": "execute_result",
          "data": {
            "text/plain": [
              "[10, 20, 30, 35, 50, 55]"
            ]
          },
          "metadata": {},
          "execution_count": 8
        }
      ]
    },
    {
      "cell_type": "markdown",
      "source": [
        "**DELETION IN LIST**"
      ],
      "metadata": {
        "id": "0rDJScHLD6DZ"
      }
    },
    {
      "cell_type": "code",
      "source": [
        "mylist.remove(35)\n",
        "mylist"
      ],
      "metadata": {
        "colab": {
          "base_uri": "https://localhost:8080/"
        },
        "id": "xAjjJG_JD7lh",
        "outputId": "7ee2e009-282a-41f5-eb81-d06c109c6609"
      },
      "execution_count": 9,
      "outputs": [
        {
          "output_type": "execute_result",
          "data": {
            "text/plain": [
              "[10, 20, 30, 50, 55]"
            ]
          },
          "metadata": {},
          "execution_count": 9
        }
      ]
    },
    {
      "cell_type": "markdown",
      "source": [
        "**CREATING A DICTIONARY**"
      ],
      "metadata": {
        "id": "J-7K3wumEio3"
      }
    },
    {
      "cell_type": "code",
      "source": [
        "person = {\n",
        "    'name' : 'XYZ',\n",
        "    'city' : 'Delhi',\n",
        "    'country' : 'India'\n",
        "}\n",
        "print(person)"
      ],
      "metadata": {
        "colab": {
          "base_uri": "https://localhost:8080/"
        },
        "id": "2W1BClY5EozR",
        "outputId": "1043d8a1-45f2-40a5-9484-743d76c67974"
      },
      "execution_count": 11,
      "outputs": [
        {
          "output_type": "stream",
          "name": "stdout",
          "text": [
            "{'name': 'XYZ', 'city': 'Delhi', 'country': 'India'}\n"
          ]
        }
      ]
    },
    {
      "cell_type": "markdown",
      "source": [
        "**MODIFYING A DICTIONARY**"
      ],
      "metadata": {
        "id": "r4dHmoaBGKQ0"
      }
    },
    {
      "cell_type": "code",
      "source": [
        "person['name'] = 'ABC'\n",
        "print(person)"
      ],
      "metadata": {
        "colab": {
          "base_uri": "https://localhost:8080/"
        },
        "id": "my0pwMeHGUAl",
        "outputId": "d548f9e0-79fa-40b1-932e-1ce75d77eeb3"
      },
      "execution_count": 12,
      "outputs": [
        {
          "output_type": "stream",
          "name": "stdout",
          "text": [
            "{'name': 'ABC', 'city': 'Delhi', 'country': 'India'}\n"
          ]
        }
      ]
    },
    {
      "cell_type": "markdown",
      "source": [
        "**ADDITION IN DICTIONARY**"
      ],
      "metadata": {
        "id": "ogk2CWvgGvm5"
      }
    },
    {
      "cell_type": "code",
      "source": [
        "person['age'] = 20\n",
        "print(person)"
      ],
      "metadata": {
        "colab": {
          "base_uri": "https://localhost:8080/"
        },
        "id": "w_djD6NhG2sO",
        "outputId": "a1ca9b7b-d7d1-4d1b-bbe6-c2c8a3d3f551"
      },
      "execution_count": 13,
      "outputs": [
        {
          "output_type": "stream",
          "name": "stdout",
          "text": [
            "{'name': 'ABC', 'city': 'Delhi', 'country': 'India', 'age': 20}\n"
          ]
        }
      ]
    },
    {
      "cell_type": "markdown",
      "source": [
        "**DELETION IN DICTIONARY**"
      ],
      "metadata": {
        "id": "76roSCUQHlz1"
      }
    },
    {
      "cell_type": "code",
      "source": [
        "person.pop('city')\n",
        "print(person)"
      ],
      "metadata": {
        "colab": {
          "base_uri": "https://localhost:8080/"
        },
        "id": "1jKN0AEeHsIN",
        "outputId": "2c0405c8-a20e-4cfb-b4d6-2239951b42ec"
      },
      "execution_count": 14,
      "outputs": [
        {
          "output_type": "stream",
          "name": "stdout",
          "text": [
            "{'name': 'ABC', 'country': 'India', 'age': 20}\n"
          ]
        }
      ]
    },
    {
      "cell_type": "markdown",
      "source": [
        "**CREATING A SET**"
      ],
      "metadata": {
        "id": "5EyTd4IeIcNp"
      }
    },
    {
      "cell_type": "code",
      "source": [
        "myset = {10,20,'X','Y','Z',True}\n",
        "print(myset)"
      ],
      "metadata": {
        "colab": {
          "base_uri": "https://localhost:8080/"
        },
        "id": "HpQFvLgVIg_x",
        "outputId": "a25fb811-897f-4fec-aeee-1e2e8828df99"
      },
      "execution_count": 15,
      "outputs": [
        {
          "output_type": "stream",
          "name": "stdout",
          "text": [
            "{True, 20, 'Y', 'X', 10, 'Z'}\n"
          ]
        }
      ]
    },
    {
      "cell_type": "markdown",
      "source": [
        "**ADDITION IN SET**"
      ],
      "metadata": {
        "id": "_NDrAWc2JULz"
      }
    },
    {
      "cell_type": "code",
      "source": [
        "myset.update([False,30])\n",
        "print(myset)"
      ],
      "metadata": {
        "colab": {
          "base_uri": "https://localhost:8080/"
        },
        "id": "uR9IypylJZx_",
        "outputId": "c2d2608e-fb5c-454e-d9e3-5e577c9831cf"
      },
      "execution_count": 17,
      "outputs": [
        {
          "output_type": "stream",
          "name": "stdout",
          "text": [
            "{False, True, 20, 'Y', 'X', 10, 'Z', 30}\n"
          ]
        }
      ]
    },
    {
      "cell_type": "markdown",
      "source": [
        "**DELETION IN SET**"
      ],
      "metadata": {
        "id": "8Z1iV55cKuXA"
      }
    },
    {
      "cell_type": "code",
      "source": [
        "myset.remove('Y')\n",
        "print(myset)"
      ],
      "metadata": {
        "colab": {
          "base_uri": "https://localhost:8080/"
        },
        "id": "0PXuy8_mKz-A",
        "outputId": "7b9f530f-1d37-4673-be6e-800c0888d6ae"
      },
      "execution_count": 18,
      "outputs": [
        {
          "output_type": "stream",
          "name": "stdout",
          "text": [
            "{False, True, 20, 'X', 10, 'Z', 30}\n"
          ]
        }
      ]
    }
  ]
}