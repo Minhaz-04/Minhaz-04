{
  "nbformat": 4,
  "nbformat_minor": 0,
  "metadata": {
    "colab": {
      "provenance": [],
      "authorship_tag": "ABX9TyPoS/8YGSq9GJPFIXeeP6YA",
      "include_colab_link": true
    },
    "kernelspec": {
      "name": "python3",
      "display_name": "Python 3"
    },
    "language_info": {
      "name": "python"
    }
  },
  "cells": [
    {
      "cell_type": "markdown",
      "metadata": {
        "id": "view-in-github",
        "colab_type": "text"
      },
      "source": [
        "<a href=\"https://colab.research.google.com/github/Minhaz-04/Minhaz-04/blob/main/Task5.ipynb\" target=\"_parent\"><img src=\"https://colab.research.google.com/assets/colab-badge.svg\" alt=\"Open In Colab\"/></a>"
      ]
    },
    {
      "cell_type": "code",
      "source": [
        "import pandas as pd\n",
        "from sklearn.feature_selection import SelectKBest\n",
        "from sklearn.feature_selection import chi2"
      ],
      "metadata": {
        "id": "7YvE5d5MjF-D"
      },
      "execution_count": 1,
      "outputs": []
    },
    {
      "cell_type": "code",
      "source": [
        "df = pd.read_csv('/content/heart.csv')"
      ],
      "metadata": {
        "id": "up3qf1OajN8c"
      },
      "execution_count": 2,
      "outputs": []
    },
    {
      "cell_type": "code",
      "source": [
        "x = df.drop('target', axis=1)\n",
        "y = df['age']"
      ],
      "metadata": {
        "id": "D-hVfmqiji3R"
      },
      "execution_count": 6,
      "outputs": []
    },
    {
      "cell_type": "code",
      "source": [
        "selector = SelectKBest(chi2, k=10)\n",
        "X_new = selector.fit_transform(x, y)"
      ],
      "metadata": {
        "id": "hi0a2648j8U-"
      },
      "execution_count": 7,
      "outputs": []
    },
    {
      "source": [
        "# Convert the numpy array to a pandas DataFrame for easier manipulation\n",
        "X_new_df = pd.DataFrame(X_new)\n",
        "\n",
        "# Now you can add new columns using string names\n",
        "X_new_df['new_feature_1'] = X_new_df[0] + X_new_df[1] # Assuming 'feature_1' and 'feature_2' are at columns 0 and 1 respectively\n",
        "X_new_df['new_feature_2'] = X_new_df[2] * X_new_df[3] # Assuming 'feature_3' and 'feature_4' are at columns 2 and 3 respectively\n",
        "\n",
        "print(X_new_df)"
      ],
      "cell_type": "code",
      "metadata": {
        "colab": {
          "base_uri": "https://localhost:8080/"
        },
        "id": "jDhZ26JopaFC",
        "outputId": "2414099f-aacf-4178-faa8-e6e6f0f83c3e"
      },
      "execution_count": 11,
      "outputs": [
        {
          "output_type": "stream",
          "name": "stdout",
          "text": [
            "         0    1      2      3    4    5      6    7    8    9  new_feature_1  \\\n",
            "0     52.0  0.0  125.0  212.0  0.0  1.0  168.0  0.0  1.0  2.0           52.0   \n",
            "1     53.0  0.0  140.0  203.0  1.0  0.0  155.0  1.0  3.1  0.0           53.0   \n",
            "2     70.0  0.0  145.0  174.0  0.0  1.0  125.0  1.0  2.6  0.0           70.0   \n",
            "3     61.0  0.0  148.0  203.0  0.0  1.0  161.0  0.0  0.0  1.0           61.0   \n",
            "4     62.0  0.0  138.0  294.0  1.0  1.0  106.0  0.0  1.9  3.0           62.0   \n",
            "...    ...  ...    ...    ...  ...  ...    ...  ...  ...  ...            ...   \n",
            "1020  59.0  1.0  140.0  221.0  0.0  1.0  164.0  1.0  0.0  0.0           60.0   \n",
            "1021  60.0  0.0  125.0  258.0  0.0  0.0  141.0  1.0  2.8  1.0           60.0   \n",
            "1022  47.0  0.0  110.0  275.0  0.0  0.0  118.0  1.0  1.0  1.0           47.0   \n",
            "1023  50.0  0.0  110.0  254.0  0.0  0.0  159.0  0.0  0.0  0.0           50.0   \n",
            "1024  54.0  0.0  120.0  188.0  0.0  1.0  113.0  0.0  1.4  1.0           54.0   \n",
            "\n",
            "      new_feature_2  \n",
            "0           26500.0  \n",
            "1           28420.0  \n",
            "2           25230.0  \n",
            "3           30044.0  \n",
            "4           40572.0  \n",
            "...             ...  \n",
            "1020        30940.0  \n",
            "1021        32250.0  \n",
            "1022        30250.0  \n",
            "1023        27940.0  \n",
            "1024        22560.0  \n",
            "\n",
            "[1025 rows x 12 columns]\n"
          ]
        }
      ]
    },
    {
      "source": [
        "df = pd.read_csv('/content/heart.csv')\n",
        "df['sex'] = df['target']+df['chol']\n",
        "df['target'] = df['age']+df['sex']\n",
        "selected_features = ['target', 'chol', 'cp']\n",
        "df_selected = df[selected_features]\n",
        "print(df_selected.head())"
      ],
      "cell_type": "code",
      "metadata": {
        "colab": {
          "base_uri": "https://localhost:8080/"
        },
        "id": "oYJv3BX6r_Xd",
        "outputId": "474e286f-5cb7-4dad-a5c3-701ab3a46b28"
      },
      "execution_count": 14,
      "outputs": [
        {
          "output_type": "stream",
          "name": "stdout",
          "text": [
            "   target  chol  cp\n",
            "0     264   212   0\n",
            "1     256   203   0\n",
            "2     244   174   0\n",
            "3     264   203   0\n",
            "4     356   294   0\n"
          ]
        }
      ]
    },
    {
      "cell_type": "code",
      "source": [
        "from sklearn.decomposition import PCA\n",
        "pca=PCA(n_components=2)\n",
        "x_new_pca=pca.fit_transform(X_new)\n",
        "print(x_new_pca)"
      ],
      "metadata": {
        "colab": {
          "base_uri": "https://localhost:8080/"
        },
        "id": "DRwx40nuswhr",
        "outputId": "e9deb90b-0e88-4ba0-f2d8-cba6efabc270"
      },
      "execution_count": 15,
      "outputs": [
        {
          "output_type": "stream",
          "name": "stdout",
          "text": [
            "[[-34.61528554 -18.62330903]\n",
            " [-42.62599507  -4.17627121]\n",
            " [-70.20266828  29.35158798]\n",
            " ...\n",
            " [ 27.9979309   26.64935214]\n",
            " [  6.58958704 -12.52098888]\n",
            " [-57.96188727  35.81673978]]\n"
          ]
        }
      ]
    },
    {
      "cell_type": "code",
      "source": [
        "from sklearn.ensemble import ExtraTreesClassifier\n",
        "model = ExtraTreesClassifier()\n",
        "model.fit(x, y)\n",
        "print(model.feature_importances_)"
      ],
      "metadata": {
        "colab": {
          "base_uri": "https://localhost:8080/"
        },
        "id": "ocma9cqLurNy",
        "outputId": "c2b4b19b-1548-41ed-8006-e8e618e82c9a"
      },
      "execution_count": 16,
      "outputs": [
        {
          "output_type": "stream",
          "name": "stdout",
          "text": [
            "[0.24500503 0.03416817 0.05581255 0.10532951 0.10703092 0.0263074\n",
            " 0.04474869 0.11060829 0.02559509 0.08890237 0.04983234 0.05790723\n",
            " 0.04875243]\n"
          ]
        }
      ]
    },
    {
      "cell_type": "code",
      "source": [
        "from sklearn.decomposition import PCA\n",
        "pca = PCA(n_components=3)\n",
        "x_pca = pca.fit_transform(x)\n",
        "print(pca.explained_variance_ratio_)"
      ],
      "metadata": {
        "colab": {
          "base_uri": "https://localhost:8080/"
        },
        "id": "ev7iX6JHvPbT",
        "outputId": "86c4d77a-b47f-4567-efd0-6623f344671d"
      },
      "execution_count": 17,
      "outputs": [
        {
          "output_type": "stream",
          "name": "stdout",
          "text": [
            "[0.74530931 0.15199174 0.08492751]\n"
          ]
        }
      ]
    },
    {
      "cell_type": "code",
      "source": [
        "from sklearn.feature_selection import RFE\n",
        "rfe = RFE(estimator=ExtraTreesClassifier(), n_features_to_select=5)\n",
        "rfe.fit(x, y)\n",
        "selected_features_mask = rfe.support_\n",
        "selected_features = x.columns[selected_features_mask]\n",
        "print(\"Selected features:\", selected_features)"
      ],
      "metadata": {
        "colab": {
          "base_uri": "https://localhost:8080/"
        },
        "id": "QrVjS0u8wViB",
        "outputId": "01a17982-b32b-4144-edb7-b194702c4948"
      },
      "execution_count": 18,
      "outputs": [
        {
          "output_type": "stream",
          "name": "stdout",
          "text": [
            "Selected features: Index(['age', 'trestbps', 'chol', 'thalach', 'oldpeak'], dtype='object')\n"
          ]
        }
      ]
    },
    {
      "source": [
        "import pandas as pd\n",
        "from sklearn.feature_selection import mutual_info_classif\n",
        "selector = SelectKBest(mutual_info_classif, k=10)\n",
        "X_new = selector.fit_transform(x, y)\n",
        "X_new_df = pd.DataFrame(X_new)"
      ],
      "cell_type": "code",
      "metadata": {
        "id": "zPw2eED6zt3y"
      },
      "execution_count": 21,
      "outputs": []
    },
    {
      "cell_type": "code",
      "source": [
        "model = ExtraTreesClassifier()\n",
        "model.fit(x, y)\n",
        "feature_importances = pd.Series(model.feature_importances_, index=x.columns)\n",
        "selected_features = feature_importances.nlargest(10).index.tolist()"
      ],
      "metadata": {
        "id": "I4Nv7bc4z4ZX"
      },
      "execution_count": 22,
      "outputs": []
    },
    {
      "cell_type": "code",
      "source": [
        "pca = PCA(n_components=5)\n",
        "x_pca = pca.fit_transform(x)\n",
        "explained_variance_ratio = pca.explained_variance_ratio_\n",
        "selected_features_pca = [i for i in range(len(explained_variance_ratio)) if explained_variance_ratio[i] > 0.9]"
      ],
      "metadata": {
        "id": "bjujKcYv0Jfb"
      },
      "execution_count": 23,
      "outputs": []
    },
    {
      "cell_type": "code",
      "source": [
        "rfe = RFE(estimator=ExtraTreesClassifier(), n_features_to_select=5)\n",
        "rfe.fit(x, y)\n",
        "selected_features_rfe = x.columns[rfe.support_]"
      ],
      "metadata": {
        "id": "-AoV_3MM0TDo"
      },
      "execution_count": 24,
      "outputs": []
    },
    {
      "source": [
        "optimized_features = list(set(selected_features + selected_features_pca + list(selected_features_rfe)))"
      ],
      "cell_type": "code",
      "metadata": {
        "id": "iUNAvzcm0qfG"
      },
      "execution_count": 26,
      "outputs": []
    },
    {
      "cell_type": "code",
      "source": [
        "model = ExtraTreesClassifier()\n",
        "model.fit(x[optimized_features], y)\n",
        "score = model.score(x[optimized_features], y)\n",
        "print(\"Optimized feature set score:\", score)"
      ],
      "metadata": {
        "colab": {
          "base_uri": "https://localhost:8080/"
        },
        "id": "SwLzR-KQ0wER",
        "outputId": "0fca5362-87e1-42d1-f9d1-9b03a8a97425"
      },
      "execution_count": 27,
      "outputs": [
        {
          "output_type": "stream",
          "name": "stdout",
          "text": [
            "Optimized feature set score: 1.0\n"
          ]
        }
      ]
    }
  ]
}